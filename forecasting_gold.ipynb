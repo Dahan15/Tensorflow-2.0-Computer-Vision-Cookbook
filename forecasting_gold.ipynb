{
  "metadata": {
    "kernelspec": {
      "language": "python",
      "display_name": "Python 3",
      "name": "python3"
    },
    "language_info": {
      "name": "python",
      "version": "3.10.13",
      "mimetype": "text/x-python",
      "codemirror_mode": {
        "name": "ipython",
        "version": 3
      },
      "pygments_lexer": "ipython3",
      "nbconvert_exporter": "python",
      "file_extension": ".py"
    },
    "kaggle": {
      "accelerator": "none",
      "dataSources": [
        {
          "sourceId": 1662120,
          "sourceType": "datasetVersion",
          "datasetId": 984101
        }
      ],
      "dockerImageVersionId": 30698,
      "isInternetEnabled": true,
      "language": "python",
      "sourceType": "notebook",
      "isGpuEnabled": false
    },
    "colab": {
      "name": "forecasting gold",
      "provenance": [],
      "include_colab_link": true
    }
  },
  "nbformat_minor": 0,
  "nbformat": 4,
  "cells": [
    {
      "cell_type": "markdown",
      "metadata": {
        "id": "view-in-github",
        "colab_type": "text"
      },
      "source": [
        "<a href=\"https://colab.research.google.com/github/Dahan15/Tensorflow-2.0-Computer-Vision-Cookbook/blob/master/forecasting_gold.ipynb\" target=\"_parent\"><img src=\"https://colab.research.google.com/assets/colab-badge.svg\" alt=\"Open In Colab\"/></a>"
      ]
    },
    {
      "source": [
        "\n",
        "# IMPORTANT: RUN THIS CELL IN ORDER TO IMPORT YOUR KAGGLE DATA SOURCES\n",
        "# TO THE CORRECT LOCATION (/kaggle/input) IN YOUR NOTEBOOK,\n",
        "# THEN FEEL FREE TO DELETE THIS CELL.\n",
        "# NOTE: THIS NOTEBOOK ENVIRONMENT DIFFERS FROM KAGGLE'S PYTHON\n",
        "# ENVIRONMENT SO THERE MAY BE MISSING LIBRARIES USED BY YOUR\n",
        "# NOTEBOOK.\n",
        "\n",
        "import os\n",
        "import sys\n",
        "from tempfile import NamedTemporaryFile\n",
        "from urllib.request import urlopen\n",
        "from urllib.parse import unquote, urlparse\n",
        "from urllib.error import HTTPError\n",
        "from zipfile import ZipFile\n",
        "import tarfile\n",
        "import shutil\n",
        "\n",
        "CHUNK_SIZE = 40960\n",
        "DATA_SOURCE_MAPPING = 'learn-time-series-forecasting-from-gold-price:https%3A%2F%2Fstorage.googleapis.com%2Fkaggle-data-sets%2F984101%2F1662120%2Fbundle%2Farchive.zip%3FX-Goog-Algorithm%3DGOOG4-RSA-SHA256%26X-Goog-Credential%3Dgcp-kaggle-com%2540kaggle-161607.iam.gserviceaccount.com%252F20240602%252Fauto%252Fstorage%252Fgoog4_request%26X-Goog-Date%3D20240602T170116Z%26X-Goog-Expires%3D259200%26X-Goog-SignedHeaders%3Dhost%26X-Goog-Signature%3D872c3f5a8d04812746b4521527c18dc8fc2fc4822ad2b3ccd1adc6339fd12203f144de338e878880223d8a86c709d8453df74f43abc725635a1c7f94c8a57e00cdeb87007daa9fa28dda7e0e65f6620d342e38e969aebcae533a8905ed922f11c75f5e554aa1071063d4b4a8adb5581f6f7420c45ba986ba0cf4a9f97976d0a990bff221d21025ead56e015fd2046eb77e801ff5690cfeebc887d2612bf99850c53be45c564f15a671e71f93cf44394a4e6a3da38d88d8b71fb61fabfff97643b468545e4803aa776c259cf6813c62fcdc0a9f60a7b1cd054df058770630b36d3995418ecbd0e9512ca5ae7ff11f8b3b70b857c6af52ce543b14717e17bb4c35'\n",
        "\n",
        "KAGGLE_INPUT_PATH='/kaggle/input'\n",
        "KAGGLE_WORKING_PATH='/kaggle/working'\n",
        "KAGGLE_SYMLINK='kaggle'\n",
        "\n",
        "!umount /kaggle/input/ 2> /dev/null\n",
        "shutil.rmtree('/kaggle/input', ignore_errors=True)\n",
        "os.makedirs(KAGGLE_INPUT_PATH, 0o777, exist_ok=True)\n",
        "os.makedirs(KAGGLE_WORKING_PATH, 0o777, exist_ok=True)\n",
        "\n",
        "try:\n",
        "  os.symlink(KAGGLE_INPUT_PATH, os.path.join(\"..\", 'input'), target_is_directory=True)\n",
        "except FileExistsError:\n",
        "  pass\n",
        "try:\n",
        "  os.symlink(KAGGLE_WORKING_PATH, os.path.join(\"..\", 'working'), target_is_directory=True)\n",
        "except FileExistsError:\n",
        "  pass\n",
        "\n",
        "for data_source_mapping in DATA_SOURCE_MAPPING.split(','):\n",
        "    directory, download_url_encoded = data_source_mapping.split(':')\n",
        "    download_url = unquote(download_url_encoded)\n",
        "    filename = urlparse(download_url).path\n",
        "    destination_path = os.path.join(KAGGLE_INPUT_PATH, directory)\n",
        "    try:\n",
        "        with urlopen(download_url) as fileres, NamedTemporaryFile() as tfile:\n",
        "            total_length = fileres.headers['content-length']\n",
        "            print(f'Downloading {directory}, {total_length} bytes compressed')\n",
        "            dl = 0\n",
        "            data = fileres.read(CHUNK_SIZE)\n",
        "            while len(data) > 0:\n",
        "                dl += len(data)\n",
        "                tfile.write(data)\n",
        "                done = int(50 * dl / int(total_length))\n",
        "                sys.stdout.write(f\"\\r[{'=' * done}{' ' * (50-done)}] {dl} bytes downloaded\")\n",
        "                sys.stdout.flush()\n",
        "                data = fileres.read(CHUNK_SIZE)\n",
        "            if filename.endswith('.zip'):\n",
        "              with ZipFile(tfile) as zfile:\n",
        "                zfile.extractall(destination_path)\n",
        "            else:\n",
        "              with tarfile.open(tfile.name) as tarfile:\n",
        "                tarfile.extractall(destination_path)\n",
        "            print(f'\\nDownloaded and uncompressed: {directory}')\n",
        "    except HTTPError as e:\n",
        "        print(f'Failed to load (likely expired) {download_url} to path {destination_path}')\n",
        "        continue\n",
        "    except OSError as e:\n",
        "        print(f'Failed to load {download_url} to path {destination_path}')\n",
        "        continue\n",
        "\n",
        "print('Data source import complete.')\n"
      ],
      "metadata": {
        "id": "5aiDSIBj5gpW"
      },
      "cell_type": "code",
      "outputs": [],
      "execution_count": null
    },
    {
      "cell_type": "code",
      "source": [
        "# This Python 3 environment comes with many helpful analytics libraries installed\n",
        "# It is defined by the kaggle/python Docker image: https://github.com/kaggle/docker-python\n",
        "# For example, here's several helpful packages to load\n",
        "\n",
        "import numpy as np # linear algebra\n",
        "import pandas as pd # data processing, CSV file I/O (e.g. pd.read_csv)\n",
        "\n",
        "# Input data files are available in the read-only \"../input/\" directory\n",
        "# For example, running this (by clicking run or pressing Shift+Enter) will list all files under the input directory\n",
        "\n",
        "import os\n",
        "for dirname, _, filenames in os.walk('/kaggle/input'):\n",
        "    for filename in filenames:\n",
        "        print(os.path.join(dirname, filename))\n",
        "\n",
        "# You can write up to 20GB to the current directory (/kaggle/working/) that gets preserved as output when you create a version using \"Save & Run All\"\n",
        "# You can also write temporary files to /kaggle/temp/, but they won't be saved outside of the current session"
      ],
      "metadata": {
        "_uuid": "8f2839f25d086af736a60e9eeb907d3b93b6e0e5",
        "_cell_guid": "b1076dfc-b9ad-4769-8c92-a6c4dae69d19",
        "execution": {
          "iopub.status.busy": "2024-06-02T16:29:17.037175Z",
          "iopub.execute_input": "2024-06-02T16:29:17.037811Z",
          "iopub.status.idle": "2024-06-02T16:29:17.935749Z",
          "shell.execute_reply.started": "2024-06-02T16:29:17.037644Z",
          "shell.execute_reply": "2024-06-02T16:29:17.934323Z"
        },
        "trusted": true,
        "id": "laMikXi_5gpe"
      },
      "execution_count": null,
      "outputs": []
    },
    {
      "cell_type": "code",
      "source": [
        "import numpy as np\n",
        "import pandas as pd\n",
        "import matplotlib.pyplot as plt\n",
        "from sklearn.preprocessing import MinMaxScaler\n",
        "from tensorflow.keras.models import Sequential\n",
        "from tensorflow.keras.layers import LSTM, Dense\n",
        "\n",
        "# Load the dataset\n",
        "data = pd.read_csv(\"/kaggle/input/learn-time-series-forecasting-from-gold-price/gold_price_data.csv\")  # Adjust the path if needed\n",
        "data['Date'] = pd.to_datetime(data['Date'])\n",
        "data.set_index('Date', inplace=True)\n",
        "\n",
        "# Preprocess the data\n",
        "\n"
      ],
      "metadata": {
        "execution": {
          "iopub.status.busy": "2024-06-02T16:29:17.938223Z",
          "iopub.execute_input": "2024-06-02T16:29:17.939208Z",
          "iopub.status.idle": "2024-06-02T16:29:34.95978Z",
          "shell.execute_reply.started": "2024-06-02T16:29:17.93916Z",
          "shell.execute_reply": "2024-06-02T16:29:34.958477Z"
        },
        "trusted": true,
        "id": "3GOSL2X85gpf"
      },
      "execution_count": null,
      "outputs": []
    },
    {
      "cell_type": "code",
      "source": [
        "import tensorflow as tf\n",
        "scaler = MinMaxScaler()\n",
        "scaled_data = scaler.fit_transform(data)\n",
        "\n",
        "size_of_sampel=int(len(data)*0.8)\n",
        "train=scaled_data[0:size_of_sampel]\n",
        "test=scaled_data[size_of_sampel:]\n",
        "window_size = 20\n",
        "X, y = [], []\n",
        "for i in range(window_size, len(scaled_data)):\n",
        "    X.append(scaled_data[i-window_size:i])\n",
        "    y.append(scaled_data[i])\n",
        "\n",
        "X = np.array(X)\n",
        "y = np.array(y)\n",
        "\n",
        "# Train/val split\n",
        "train_size = int(len(X) * 0.8)\n",
        "X_train, X_val = X[:train_size], X[train_size:]\n",
        "y_train, y_val = y[:train_size], y[train_size:]\n",
        "\n",
        "# Dataset using tf.data\n",
        "batch_size = 128\n",
        "buffer_size = 1000\n",
        "\n",
        "train_data = tf.data.Dataset.from_tensor_slices((X_train, y_train))\n",
        "train_data = train_data.cache().shuffle(buffer_size).batch(batch_size).prefetch(tf.data.experimental.AUTOTUNE)\n",
        "plt.show()"
      ],
      "metadata": {
        "execution": {
          "iopub.status.busy": "2024-06-02T16:29:34.961178Z",
          "iopub.execute_input": "2024-06-02T16:29:34.961512Z",
          "iopub.status.idle": "2024-06-02T16:29:35.054396Z",
          "shell.execute_reply.started": "2024-06-02T16:29:34.961483Z",
          "shell.execute_reply": "2024-06-02T16:29:35.053236Z"
        },
        "trusted": true,
        "id": "Gdb9merf5gph"
      },
      "execution_count": null,
      "outputs": []
    },
    {
      "cell_type": "code",
      "source": [
        "from tensorflow.keras.models import Sequential\n",
        "from tensorflow.keras.layers import SimpleRNN, Dense\n",
        "\n",
        "model = Sequential()\n",
        "model.add(SimpleRNN(64, activation='relu', return_sequences=True, input_shape=(window_size, 1)))\n",
        "model.add(SimpleRNN(32, activation='relu'))\n",
        "model.add(Dense(1))\n",
        "\n",
        "model.compile(optimizer='adam', loss='mse')\n",
        "\n",
        "# Fit model"
      ],
      "metadata": {
        "execution": {
          "iopub.status.busy": "2024-06-02T16:31:55.372006Z",
          "iopub.execute_input": "2024-06-02T16:31:55.372455Z",
          "iopub.status.idle": "2024-06-02T16:31:55.441031Z",
          "shell.execute_reply.started": "2024-06-02T16:31:55.372419Z",
          "shell.execute_reply": "2024-06-02T16:31:55.439856Z"
        },
        "trusted": true,
        "id": "-cWJ3MAA5gpi"
      },
      "execution_count": null,
      "outputs": []
    },
    {
      "cell_type": "code",
      "source": [
        "# Train the model\n",
        "model.fit(train_data, epochs=200, verbose=2)"
      ],
      "metadata": {
        "execution": {
          "iopub.status.busy": "2024-06-02T16:32:00.132307Z",
          "iopub.execute_input": "2024-06-02T16:32:00.133357Z",
          "iopub.status.idle": "2024-06-02T16:34:24.450706Z",
          "shell.execute_reply.started": "2024-06-02T16:32:00.13332Z",
          "shell.execute_reply": "2024-06-02T16:34:24.449439Z"
        },
        "trusted": true,
        "id": "MFyyWkjM5gpj"
      },
      "execution_count": null,
      "outputs": []
    },
    {
      "cell_type": "code",
      "source": [
        "X, y = [], []\n",
        "for i in range(window_size, len(test)):\n",
        "    X.append(test[i-window_size:i])\n",
        "    y.append(test[i])\n",
        "\n",
        "X = np.array(X)\n",
        "y = np.array(y)"
      ],
      "metadata": {
        "execution": {
          "iopub.status.busy": "2024-06-02T16:34:24.452836Z",
          "iopub.execute_input": "2024-06-02T16:34:24.453239Z",
          "iopub.status.idle": "2024-06-02T16:34:24.468338Z",
          "shell.execute_reply.started": "2024-06-02T16:34:24.453209Z",
          "shell.execute_reply": "2024-06-02T16:34:24.466946Z"
        },
        "trusted": true,
        "id": "mtpiEiPH5gpk"
      },
      "execution_count": null,
      "outputs": []
    },
    {
      "cell_type": "code",
      "source": [
        "from sklearn.metrics import mean_absolute_error, mean_squared_error\n",
        "def evaluate_model(model, X_val, y_val):\n",
        "    forecast_val = model.predict(X_val)\n",
        "    mae_val = mean_absolute_error(y_val, forecast_val)\n",
        "    mse_val = mean_squared_error(y_val, forecast_val)\n",
        "    return mae_val, mse_val\n",
        "\n",
        "def plot_predictions(forecast_val, y_val, title=\"Baseline model plot\"):\n",
        "    plt.figure(figsize=(10, 6))\n",
        "    plt.plot(forecast_val, label='Predicted Validation')\n",
        "    plt.plot(y_val, label='Actual Validation')\n",
        "    plt.title(title)\n",
        "    plt.legend()\n",
        "    plt.show()"
      ],
      "metadata": {
        "execution": {
          "iopub.status.busy": "2024-06-02T16:34:24.470973Z",
          "iopub.execute_input": "2024-06-02T16:34:24.471465Z",
          "iopub.status.idle": "2024-06-02T16:34:24.48089Z",
          "shell.execute_reply.started": "2024-06-02T16:34:24.471424Z",
          "shell.execute_reply": "2024-06-02T16:34:24.479543Z"
        },
        "trusted": true,
        "id": "WYOcjFyM5gpl"
      },
      "execution_count": null,
      "outputs": []
    },
    {
      "cell_type": "code",
      "source": [
        "# plot\n",
        "forecast = model.predict(X)\n",
        "plot_predictions(forecast, y, title=\"LSTM Model Performance\")\n",
        "# evaluate\n",
        "mae, mse = evaluate_model(model, X, y)\n",
        "print(f'MAE: {mae}, MSE: {mse}')"
      ],
      "metadata": {
        "execution": {
          "iopub.status.busy": "2024-06-02T16:34:24.483158Z",
          "iopub.execute_input": "2024-06-02T16:34:24.483524Z",
          "iopub.status.idle": "2024-06-02T16:34:26.291264Z",
          "shell.execute_reply.started": "2024-06-02T16:34:24.483495Z",
          "shell.execute_reply": "2024-06-02T16:34:26.290082Z"
        },
        "trusted": true,
        "id": "AeWV1bFW5gpn"
      },
      "execution_count": null,
      "outputs": []
    }
  ]
}